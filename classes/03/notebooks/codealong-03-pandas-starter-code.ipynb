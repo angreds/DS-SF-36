{
 "cells": [
  {
   "cell_type": "markdown",
   "metadata": {},
   "source": [
    "# DS-SF-36 | 03 | `pandas` | Codealong | Starter Code"
   ]
  },
  {
   "cell_type": "markdown",
   "metadata": {},
   "source": [
    "(http://pandas.pydata.org/pandas-docs/stable)"
   ]
  },
  {
   "cell_type": "markdown",
   "metadata": {},
   "source": [
    "## Part A | Introduction to `pandas`"
   ]
  },
  {
   "cell_type": "code",
   "execution_count": 1,
   "metadata": {
    "collapsed": true
   },
   "outputs": [],
   "source": [
    "import os\n",
    "\n",
    "import pandas as pd\n",
    "pd.set_option('display.max_rows', 10)\n",
    "pd.set_option('display.notebook_repr_html', True)\n",
    "pd.set_option('display.max_columns', 10)"
   ]
  },
  {
   "cell_type": "markdown",
   "metadata": {},
   "source": [
    "> ## `pd.read_csv()`: load datasets from files (or even over the Internet)"
   ]
  },
  {
   "cell_type": "markdown",
   "metadata": {},
   "source": [
    "(http://pandas.pydata.org/pandas-docs/stable/generated/pandas.read_csv.html)"
   ]
  },
  {
   "cell_type": "code",
   "execution_count": 5,
   "metadata": {
    "collapsed": true
   },
   "outputs": [],
   "source": [
    "df = pd.read_csv(os.path.join('..', 'datasets', 'dataset-03-zillow-properties.csv'))"
   ]
  },
  {
   "cell_type": "markdown",
   "metadata": {},
   "source": [
    "> ## `DataFrame`"
   ]
  },
  {
   "cell_type": "markdown",
   "metadata": {},
   "source": [
    "Let's check `df`'s type:"
   ]
  },
  {
   "cell_type": "code",
   "execution_count": null,
   "metadata": {
    "collapsed": true
   },
   "outputs": [],
   "source": [
    "# TODO"
   ]
  },
  {
   "cell_type": "markdown",
   "metadata": {},
   "source": [
    "`df` is a `DataFrame`.  (http://pandas.pydata.org/pandas-docs/stable/dsintro.html)"
   ]
  },
  {
   "cell_type": "markdown",
   "metadata": {},
   "source": [
    "A `DataFrame` stores tabular data.  Let's have a look at its content:"
   ]
  },
  {
   "cell_type": "code",
   "execution_count": 6,
   "metadata": {},
   "outputs": [
    {
     "data": {
      "text/html": [
       "<div>\n",
       "<style>\n",
       "    .dataframe thead tr:only-child th {\n",
       "        text-align: right;\n",
       "    }\n",
       "\n",
       "    .dataframe thead th {\n",
       "        text-align: left;\n",
       "    }\n",
       "\n",
       "    .dataframe tbody tr th {\n",
       "        vertical-align: top;\n",
       "    }\n",
       "</style>\n",
       "<table border=\"1\" class=\"dataframe\">\n",
       "  <thead>\n",
       "    <tr style=\"text-align: right;\">\n",
       "      <th></th>\n",
       "      <th>ID</th>\n",
       "      <th>Address</th>\n",
       "      <th>Latitude</th>\n",
       "      <th>Longitude</th>\n",
       "      <th>IsAStudio</th>\n",
       "      <th>...</th>\n",
       "      <th>Size</th>\n",
       "      <th>SizeUnit</th>\n",
       "      <th>LotSize</th>\n",
       "      <th>LotSizeUnit</th>\n",
       "      <th>BuiltInYear</th>\n",
       "    </tr>\n",
       "  </thead>\n",
       "  <tbody>\n",
       "    <tr>\n",
       "      <th>0</th>\n",
       "      <td>2121978635</td>\n",
       "      <td>829 Folsom St UNIT 906, San Francisco, CA</td>\n",
       "      <td>37781429</td>\n",
       "      <td>-122401860</td>\n",
       "      <td>False</td>\n",
       "      <td>...</td>\n",
       "      <td>557.0</td>\n",
       "      <td>sqft</td>\n",
       "      <td>NaN</td>\n",
       "      <td>NaN</td>\n",
       "      <td>2010.0</td>\n",
       "    </tr>\n",
       "    <tr>\n",
       "      <th>1</th>\n",
       "      <td>89239580</td>\n",
       "      <td>690 Market St UNIT 1705, San Francisco, CA</td>\n",
       "      <td>37788246</td>\n",
       "      <td>-122403198</td>\n",
       "      <td>False</td>\n",
       "      <td>...</td>\n",
       "      <td>1050.0</td>\n",
       "      <td>sqft</td>\n",
       "      <td>NaN</td>\n",
       "      <td>NaN</td>\n",
       "      <td>2007.0</td>\n",
       "    </tr>\n",
       "    <tr>\n",
       "      <th>2</th>\n",
       "      <td>15131782</td>\n",
       "      <td>401 Grand View Ave APT 3, San Francisco, CA</td>\n",
       "      <td>37752157</td>\n",
       "      <td>-122442356</td>\n",
       "      <td>False</td>\n",
       "      <td>...</td>\n",
       "      <td>937.0</td>\n",
       "      <td>sqft</td>\n",
       "      <td>NaN</td>\n",
       "      <td>NaN</td>\n",
       "      <td>1983.0</td>\n",
       "    </tr>\n",
       "    <tr>\n",
       "      <th>3</th>\n",
       "      <td>15179502</td>\n",
       "      <td>250 Concord St, San Francisco, CA</td>\n",
       "      <td>37710141</td>\n",
       "      <td>-122442063</td>\n",
       "      <td>False</td>\n",
       "      <td>...</td>\n",
       "      <td>1574.0</td>\n",
       "      <td>sqft</td>\n",
       "      <td>1947.0</td>\n",
       "      <td>sqft</td>\n",
       "      <td>1959.0</td>\n",
       "    </tr>\n",
       "    <tr>\n",
       "      <th>4</th>\n",
       "      <td>52266124</td>\n",
       "      <td>88 King St APT 317, San Francisco, CA</td>\n",
       "      <td>37780630</td>\n",
       "      <td>-122389635</td>\n",
       "      <td>False</td>\n",
       "      <td>...</td>\n",
       "      <td>1205.0</td>\n",
       "      <td>sqft</td>\n",
       "      <td>NaN</td>\n",
       "      <td>NaN</td>\n",
       "      <td>2000.0</td>\n",
       "    </tr>\n",
       "    <tr>\n",
       "      <th>...</th>\n",
       "      <td>...</td>\n",
       "      <td>...</td>\n",
       "      <td>...</td>\n",
       "      <td>...</td>\n",
       "      <td>...</td>\n",
       "      <td>...</td>\n",
       "      <td>...</td>\n",
       "      <td>...</td>\n",
       "      <td>...</td>\n",
       "      <td>...</td>\n",
       "      <td>...</td>\n",
       "    </tr>\n",
       "    <tr>\n",
       "      <th>995</th>\n",
       "      <td>82786211</td>\n",
       "      <td>310 Townsend St APT 311, San Francisco, CA</td>\n",
       "      <td>37777027</td>\n",
       "      <td>-122395736</td>\n",
       "      <td>False</td>\n",
       "      <td>...</td>\n",
       "      <td>853.0</td>\n",
       "      <td>sqft</td>\n",
       "      <td>NaN</td>\n",
       "      <td>NaN</td>\n",
       "      <td>2006.0</td>\n",
       "    </tr>\n",
       "    <tr>\n",
       "      <th>996</th>\n",
       "      <td>15103435</td>\n",
       "      <td>1343 31st Ave, San Francisco, CA</td>\n",
       "      <td>37762152</td>\n",
       "      <td>-122490254</td>\n",
       "      <td>False</td>\n",
       "      <td>...</td>\n",
       "      <td>1886.0</td>\n",
       "      <td>sqft</td>\n",
       "      <td>3000.0</td>\n",
       "      <td>sqft</td>\n",
       "      <td>1934.0</td>\n",
       "    </tr>\n",
       "    <tr>\n",
       "      <th>997</th>\n",
       "      <td>15195183</td>\n",
       "      <td>3916 Alemany Blvd, San Francisco, CA</td>\n",
       "      <td>37711527</td>\n",
       "      <td>-122467755</td>\n",
       "      <td>False</td>\n",
       "      <td>...</td>\n",
       "      <td>1300.0</td>\n",
       "      <td>sqft</td>\n",
       "      <td>2553.0</td>\n",
       "      <td>sqft</td>\n",
       "      <td>1941.0</td>\n",
       "    </tr>\n",
       "    <tr>\n",
       "      <th>998</th>\n",
       "      <td>15180783</td>\n",
       "      <td>430 Fair Oaks St, San Francisco, CA</td>\n",
       "      <td>37749725</td>\n",
       "      <td>-122424094</td>\n",
       "      <td>False</td>\n",
       "      <td>...</td>\n",
       "      <td>2678.0</td>\n",
       "      <td>sqft</td>\n",
       "      <td>NaN</td>\n",
       "      <td>NaN</td>\n",
       "      <td>1911.0</td>\n",
       "    </tr>\n",
       "    <tr>\n",
       "      <th>999</th>\n",
       "      <td>54854296</td>\n",
       "      <td>720 Stockton St APT 3, San Francisco, CA</td>\n",
       "      <td>37792578</td>\n",
       "      <td>-122407366</td>\n",
       "      <td>False</td>\n",
       "      <td>...</td>\n",
       "      <td>886.0</td>\n",
       "      <td>sqft</td>\n",
       "      <td>NaN</td>\n",
       "      <td>NaN</td>\n",
       "      <td>2001.0</td>\n",
       "    </tr>\n",
       "  </tbody>\n",
       "</table>\n",
       "<p>1000 rows × 12 columns</p>\n",
       "</div>"
      ],
      "text/plain": [
       "             ID                                      Address  Latitude  \\\n",
       "0    2121978635    829 Folsom St UNIT 906, San Francisco, CA  37781429   \n",
       "1      89239580   690 Market St UNIT 1705, San Francisco, CA  37788246   \n",
       "2      15131782  401 Grand View Ave APT 3, San Francisco, CA  37752157   \n",
       "3      15179502            250 Concord St, San Francisco, CA  37710141   \n",
       "4      52266124        88 King St APT 317, San Francisco, CA  37780630   \n",
       "..          ...                                          ...       ...   \n",
       "995    82786211   310 Townsend St APT 311, San Francisco, CA  37777027   \n",
       "996    15103435             1343 31st Ave, San Francisco, CA  37762152   \n",
       "997    15195183         3916 Alemany Blvd, San Francisco, CA  37711527   \n",
       "998    15180783          430 Fair Oaks St, San Francisco, CA  37749725   \n",
       "999    54854296     720 Stockton St APT 3, San Francisco, CA  37792578   \n",
       "\n",
       "     Longitude IsAStudio     ...         Size  SizeUnit  LotSize LotSizeUnit  \\\n",
       "0   -122401860     False     ...        557.0      sqft      NaN         NaN   \n",
       "1   -122403198     False     ...       1050.0      sqft      NaN         NaN   \n",
       "2   -122442356     False     ...        937.0      sqft      NaN         NaN   \n",
       "3   -122442063     False     ...       1574.0      sqft   1947.0        sqft   \n",
       "4   -122389635     False     ...       1205.0      sqft      NaN         NaN   \n",
       "..         ...       ...     ...          ...       ...      ...         ...   \n",
       "995 -122395736     False     ...        853.0      sqft      NaN         NaN   \n",
       "996 -122490254     False     ...       1886.0      sqft   3000.0        sqft   \n",
       "997 -122467755     False     ...       1300.0      sqft   2553.0        sqft   \n",
       "998 -122424094     False     ...       2678.0      sqft      NaN         NaN   \n",
       "999 -122407366     False     ...        886.0      sqft      NaN         NaN   \n",
       "\n",
       "     BuiltInYear  \n",
       "0         2010.0  \n",
       "1         2007.0  \n",
       "2         1983.0  \n",
       "3         1959.0  \n",
       "4         2000.0  \n",
       "..           ...  \n",
       "995       2006.0  \n",
       "996       1934.0  \n",
       "997       1941.0  \n",
       "998       1911.0  \n",
       "999       2001.0  \n",
       "\n",
       "[1000 rows x 12 columns]"
      ]
     },
     "execution_count": 6,
     "metadata": {},
     "output_type": "execute_result"
    }
   ],
   "source": [
    "df"
   ]
  },
  {
   "cell_type": "markdown",
   "metadata": {},
   "source": [
    "> ## `.head()`: first 5 (default) rows"
   ]
  },
  {
   "cell_type": "markdown",
   "metadata": {},
   "source": [
    "- (http://pandas.pydata.org/pandas-docs/stable/generated/pandas.DataFrame.head.html)\n",
    "- (http://pandas.pydata.org/pandas-docs/stable/generated/pandas.Series.head.html)"
   ]
  },
  {
   "cell_type": "code",
   "execution_count": 13,
   "metadata": {},
   "outputs": [
    {
     "data": {
      "text/html": [
       "<div>\n",
       "<style>\n",
       "    .dataframe thead tr:only-child th {\n",
       "        text-align: right;\n",
       "    }\n",
       "\n",
       "    .dataframe thead th {\n",
       "        text-align: left;\n",
       "    }\n",
       "\n",
       "    .dataframe tbody tr th {\n",
       "        vertical-align: top;\n",
       "    }\n",
       "</style>\n",
       "<table border=\"1\" class=\"dataframe\">\n",
       "  <thead>\n",
       "    <tr style=\"text-align: right;\">\n",
       "      <th></th>\n",
       "      <th>ID</th>\n",
       "      <th>Address</th>\n",
       "      <th>Latitude</th>\n",
       "      <th>Longitude</th>\n",
       "      <th>IsAStudio</th>\n",
       "      <th>...</th>\n",
       "      <th>Size</th>\n",
       "      <th>SizeUnit</th>\n",
       "      <th>LotSize</th>\n",
       "      <th>LotSizeUnit</th>\n",
       "      <th>BuiltInYear</th>\n",
       "    </tr>\n",
       "  </thead>\n",
       "  <tbody>\n",
       "    <tr>\n",
       "      <th>0</th>\n",
       "      <td>2121978635</td>\n",
       "      <td>829 Folsom St UNIT 906, San Francisco, CA</td>\n",
       "      <td>37781429</td>\n",
       "      <td>-122401860</td>\n",
       "      <td>False</td>\n",
       "      <td>...</td>\n",
       "      <td>557.0</td>\n",
       "      <td>sqft</td>\n",
       "      <td>NaN</td>\n",
       "      <td>NaN</td>\n",
       "      <td>2010.0</td>\n",
       "    </tr>\n",
       "    <tr>\n",
       "      <th>1</th>\n",
       "      <td>89239580</td>\n",
       "      <td>690 Market St UNIT 1705, San Francisco, CA</td>\n",
       "      <td>37788246</td>\n",
       "      <td>-122403198</td>\n",
       "      <td>False</td>\n",
       "      <td>...</td>\n",
       "      <td>1050.0</td>\n",
       "      <td>sqft</td>\n",
       "      <td>NaN</td>\n",
       "      <td>NaN</td>\n",
       "      <td>2007.0</td>\n",
       "    </tr>\n",
       "    <tr>\n",
       "      <th>2</th>\n",
       "      <td>15131782</td>\n",
       "      <td>401 Grand View Ave APT 3, San Francisco, CA</td>\n",
       "      <td>37752157</td>\n",
       "      <td>-122442356</td>\n",
       "      <td>False</td>\n",
       "      <td>...</td>\n",
       "      <td>937.0</td>\n",
       "      <td>sqft</td>\n",
       "      <td>NaN</td>\n",
       "      <td>NaN</td>\n",
       "      <td>1983.0</td>\n",
       "    </tr>\n",
       "    <tr>\n",
       "      <th>3</th>\n",
       "      <td>15179502</td>\n",
       "      <td>250 Concord St, San Francisco, CA</td>\n",
       "      <td>37710141</td>\n",
       "      <td>-122442063</td>\n",
       "      <td>False</td>\n",
       "      <td>...</td>\n",
       "      <td>1574.0</td>\n",
       "      <td>sqft</td>\n",
       "      <td>1947.0</td>\n",
       "      <td>sqft</td>\n",
       "      <td>1959.0</td>\n",
       "    </tr>\n",
       "    <tr>\n",
       "      <th>4</th>\n",
       "      <td>52266124</td>\n",
       "      <td>88 King St APT 317, San Francisco, CA</td>\n",
       "      <td>37780630</td>\n",
       "      <td>-122389635</td>\n",
       "      <td>False</td>\n",
       "      <td>...</td>\n",
       "      <td>1205.0</td>\n",
       "      <td>sqft</td>\n",
       "      <td>NaN</td>\n",
       "      <td>NaN</td>\n",
       "      <td>2000.0</td>\n",
       "    </tr>\n",
       "  </tbody>\n",
       "</table>\n",
       "<p>5 rows × 12 columns</p>\n",
       "</div>"
      ],
      "text/plain": [
       "           ID                                      Address  Latitude  \\\n",
       "0  2121978635    829 Folsom St UNIT 906, San Francisco, CA  37781429   \n",
       "1    89239580   690 Market St UNIT 1705, San Francisco, CA  37788246   \n",
       "2    15131782  401 Grand View Ave APT 3, San Francisco, CA  37752157   \n",
       "3    15179502            250 Concord St, San Francisco, CA  37710141   \n",
       "4    52266124        88 King St APT 317, San Francisco, CA  37780630   \n",
       "\n",
       "   Longitude IsAStudio     ...         Size  SizeUnit  LotSize LotSizeUnit  \\\n",
       "0 -122401860     False     ...        557.0      sqft      NaN         NaN   \n",
       "1 -122403198     False     ...       1050.0      sqft      NaN         NaN   \n",
       "2 -122442356     False     ...        937.0      sqft      NaN         NaN   \n",
       "3 -122442063     False     ...       1574.0      sqft   1947.0        sqft   \n",
       "4 -122389635     False     ...       1205.0      sqft      NaN         NaN   \n",
       "\n",
       "   BuiltInYear  \n",
       "0       2010.0  \n",
       "1       2007.0  \n",
       "2       1983.0  \n",
       "3       1959.0  \n",
       "4       2000.0  \n",
       "\n",
       "[5 rows x 12 columns]"
      ]
     },
     "execution_count": 13,
     "metadata": {},
     "output_type": "execute_result"
    }
   ],
   "source": [
    "df.head()"
   ]
  },
  {
   "cell_type": "markdown",
   "metadata": {},
   "source": [
    "> ## `.tail()`: last 5 (default) rows"
   ]
  },
  {
   "cell_type": "markdown",
   "metadata": {},
   "source": [
    "- (http://pandas.pydata.org/pandas-docs/stable/generated/pandas.DataFrame.tail.html)\n",
    "- (http://pandas.pydata.org/pandas-docs/stable/generated/pandas.Series.tail.html)"
   ]
  },
  {
   "cell_type": "code",
   "execution_count": 14,
   "metadata": {},
   "outputs": [
    {
     "data": {
      "text/html": [
       "<div>\n",
       "<style>\n",
       "    .dataframe thead tr:only-child th {\n",
       "        text-align: right;\n",
       "    }\n",
       "\n",
       "    .dataframe thead th {\n",
       "        text-align: left;\n",
       "    }\n",
       "\n",
       "    .dataframe tbody tr th {\n",
       "        vertical-align: top;\n",
       "    }\n",
       "</style>\n",
       "<table border=\"1\" class=\"dataframe\">\n",
       "  <thead>\n",
       "    <tr style=\"text-align: right;\">\n",
       "      <th></th>\n",
       "      <th>ID</th>\n",
       "      <th>Address</th>\n",
       "      <th>Latitude</th>\n",
       "      <th>Longitude</th>\n",
       "      <th>IsAStudio</th>\n",
       "      <th>...</th>\n",
       "      <th>Size</th>\n",
       "      <th>SizeUnit</th>\n",
       "      <th>LotSize</th>\n",
       "      <th>LotSizeUnit</th>\n",
       "      <th>BuiltInYear</th>\n",
       "    </tr>\n",
       "  </thead>\n",
       "  <tbody>\n",
       "    <tr>\n",
       "      <th>995</th>\n",
       "      <td>82786211</td>\n",
       "      <td>310 Townsend St APT 311, San Francisco, CA</td>\n",
       "      <td>37777027</td>\n",
       "      <td>-122395736</td>\n",
       "      <td>False</td>\n",
       "      <td>...</td>\n",
       "      <td>853.0</td>\n",
       "      <td>sqft</td>\n",
       "      <td>NaN</td>\n",
       "      <td>NaN</td>\n",
       "      <td>2006.0</td>\n",
       "    </tr>\n",
       "    <tr>\n",
       "      <th>996</th>\n",
       "      <td>15103435</td>\n",
       "      <td>1343 31st Ave, San Francisco, CA</td>\n",
       "      <td>37762152</td>\n",
       "      <td>-122490254</td>\n",
       "      <td>False</td>\n",
       "      <td>...</td>\n",
       "      <td>1886.0</td>\n",
       "      <td>sqft</td>\n",
       "      <td>3000.0</td>\n",
       "      <td>sqft</td>\n",
       "      <td>1934.0</td>\n",
       "    </tr>\n",
       "    <tr>\n",
       "      <th>997</th>\n",
       "      <td>15195183</td>\n",
       "      <td>3916 Alemany Blvd, San Francisco, CA</td>\n",
       "      <td>37711527</td>\n",
       "      <td>-122467755</td>\n",
       "      <td>False</td>\n",
       "      <td>...</td>\n",
       "      <td>1300.0</td>\n",
       "      <td>sqft</td>\n",
       "      <td>2553.0</td>\n",
       "      <td>sqft</td>\n",
       "      <td>1941.0</td>\n",
       "    </tr>\n",
       "    <tr>\n",
       "      <th>998</th>\n",
       "      <td>15180783</td>\n",
       "      <td>430 Fair Oaks St, San Francisco, CA</td>\n",
       "      <td>37749725</td>\n",
       "      <td>-122424094</td>\n",
       "      <td>False</td>\n",
       "      <td>...</td>\n",
       "      <td>2678.0</td>\n",
       "      <td>sqft</td>\n",
       "      <td>NaN</td>\n",
       "      <td>NaN</td>\n",
       "      <td>1911.0</td>\n",
       "    </tr>\n",
       "    <tr>\n",
       "      <th>999</th>\n",
       "      <td>54854296</td>\n",
       "      <td>720 Stockton St APT 3, San Francisco, CA</td>\n",
       "      <td>37792578</td>\n",
       "      <td>-122407366</td>\n",
       "      <td>False</td>\n",
       "      <td>...</td>\n",
       "      <td>886.0</td>\n",
       "      <td>sqft</td>\n",
       "      <td>NaN</td>\n",
       "      <td>NaN</td>\n",
       "      <td>2001.0</td>\n",
       "    </tr>\n",
       "  </tbody>\n",
       "</table>\n",
       "<p>5 rows × 12 columns</p>\n",
       "</div>"
      ],
      "text/plain": [
       "           ID                                     Address  Latitude  \\\n",
       "995  82786211  310 Townsend St APT 311, San Francisco, CA  37777027   \n",
       "996  15103435            1343 31st Ave, San Francisco, CA  37762152   \n",
       "997  15195183        3916 Alemany Blvd, San Francisco, CA  37711527   \n",
       "998  15180783         430 Fair Oaks St, San Francisco, CA  37749725   \n",
       "999  54854296    720 Stockton St APT 3, San Francisco, CA  37792578   \n",
       "\n",
       "     Longitude IsAStudio     ...         Size  SizeUnit  LotSize LotSizeUnit  \\\n",
       "995 -122395736     False     ...        853.0      sqft      NaN         NaN   \n",
       "996 -122490254     False     ...       1886.0      sqft   3000.0        sqft   \n",
       "997 -122467755     False     ...       1300.0      sqft   2553.0        sqft   \n",
       "998 -122424094     False     ...       2678.0      sqft      NaN         NaN   \n",
       "999 -122407366     False     ...        886.0      sqft      NaN         NaN   \n",
       "\n",
       "     BuiltInYear  \n",
       "995       2006.0  \n",
       "996       1934.0  \n",
       "997       1941.0  \n",
       "998       1911.0  \n",
       "999       2001.0  \n",
       "\n",
       "[5 rows x 12 columns]"
      ]
     },
     "execution_count": 14,
     "metadata": {},
     "output_type": "execute_result"
    }
   ],
   "source": [
    "# TODO\n",
    "df.tail()"
   ]
  },
  {
   "cell_type": "markdown",
   "metadata": {},
   "source": [
    "> ## `.shape`: shape (i.e., number of rows and columns)"
   ]
  },
  {
   "cell_type": "markdown",
   "metadata": {},
   "source": [
    "- (http://pandas.pydata.org/pandas-docs/stable/generated/pandas.DataFrame.shape.html)\n",
    "- (http://pandas.pydata.org/pandas-docs/stable/generated/pandas.Series.shape.html)"
   ]
  },
  {
   "cell_type": "code",
   "execution_count": null,
   "metadata": {
    "collapsed": true
   },
   "outputs": [],
   "source": [
    "df.shape"
   ]
  },
  {
   "cell_type": "markdown",
   "metadata": {},
   "source": [
    "The first value (at index 0) is the number of rows, the second (at index 1), the number of columns:"
   ]
  },
  {
   "cell_type": "code",
   "execution_count": null,
   "metadata": {
    "collapsed": true
   },
   "outputs": [],
   "source": [
    "df.shape[0]"
   ]
  },
  {
   "cell_type": "code",
   "execution_count": null,
   "metadata": {
    "collapsed": true
   },
   "outputs": [],
   "source": [
    "# TODO"
   ]
  },
  {
   "cell_type": "markdown",
   "metadata": {},
   "source": [
    "You can also use the idiomatic Python `len` function to get the number of rows:"
   ]
  },
  {
   "cell_type": "code",
   "execution_count": null,
   "metadata": {
    "collapsed": true
   },
   "outputs": [],
   "source": [
    "len(df)"
   ]
  },
  {
   "cell_type": "markdown",
   "metadata": {},
   "source": [
    "> ## `.dtypes`: column types"
   ]
  },
  {
   "cell_type": "markdown",
   "metadata": {},
   "source": [
    "- (http://pandas.pydata.org/pandas-docs/stable/generated/pandas.DataFrame.dtypes.html)\n",
    "- (http://pandas.pydata.org/pandas-docs/stable/basics.html)"
   ]
  },
  {
   "cell_type": "code",
   "execution_count": 7,
   "metadata": {},
   "outputs": [
    {
     "data": {
      "text/plain": [
       "ID               int64\n",
       "Address         object\n",
       "Latitude         int64\n",
       "Longitude        int64\n",
       "IsAStudio       object\n",
       "                ...   \n",
       "Size           float64\n",
       "SizeUnit        object\n",
       "LotSize        float64\n",
       "LotSizeUnit     object\n",
       "BuiltInYear    float64\n",
       "Length: 12, dtype: object"
      ]
     },
     "execution_count": 7,
     "metadata": {},
     "output_type": "execute_result"
    }
   ],
   "source": [
    "df.dtypes"
   ]
  },
  {
   "cell_type": "markdown",
   "metadata": {},
   "source": [
    "> ## `.isnull()` and `.notnull()`: NaN (Not-a-Number)"
   ]
  },
  {
   "cell_type": "markdown",
   "metadata": {},
   "source": [
    "- (http://pandas.pydata.org/pandas-docs/stable/generated/pandas.isnull.html)\n",
    "- (http://pandas.pydata.org/pandas-docs/stable/generated/pandas.DataFrame.isnull.html)\n",
    "- (http://pandas.pydata.org/pandas-docs/stable/generated/pandas.Series.isnull.html)"
   ]
  },
  {
   "cell_type": "markdown",
   "metadata": {},
   "source": [
    "- (http://pandas.pydata.org/pandas-docs/stable/generated/pandas.notnull.html)\n",
    "- (http://pandas.pydata.org/pandas-docs/stable/generated/pandas.DataFrame.notnull.html)\n",
    "- (http://pandas.pydata.org/pandas-docs/stable/generated/pandas.Series.notnull.html)"
   ]
  },
  {
   "cell_type": "markdown",
   "metadata": {},
   "source": [
    "- (http://pandas.pydata.org/pandas-docs/stable/generated/pandas.DataFrame.sum.html)\n",
    "- (http://pandas.pydata.org/pandas-docs/stable/generated/pandas.Series.sum.html)"
   ]
  },
  {
   "cell_type": "markdown",
   "metadata": {},
   "source": [
    "As a data scientist, we will have to decide what to do when encountering missing values (a.k.a, not-a-numbers).  We might decide to drop the row containing it, drop the whole column, or impute it.  Today, let's focus on finding these NaNs."
   ]
  },
  {
   "cell_type": "code",
   "execution_count": null,
   "metadata": {
    "collapsed": true
   },
   "outputs": [],
   "source": [
    "df.isnull()"
   ]
  },
  {
   "cell_type": "markdown",
   "metadata": {},
   "source": [
    "In return, we get a new `DataFrame` with Boolean values.  `True` if the value is `NaN`, `False` otherwise."
   ]
  },
  {
   "cell_type": "markdown",
   "metadata": {},
   "source": [
    "We can also get the count per column:"
   ]
  },
  {
   "cell_type": "code",
   "execution_count": null,
   "metadata": {
    "collapsed": true
   },
   "outputs": [],
   "source": [
    "df.isnull().sum()"
   ]
  },
  {
   "cell_type": "markdown",
   "metadata": {},
   "source": [
    "Summing again will return the number of cells in the `DataFrame` with missing values."
   ]
  },
  {
   "cell_type": "code",
   "execution_count": null,
   "metadata": {
    "collapsed": true
   },
   "outputs": [],
   "source": [
    "# TODO"
   ]
  },
  {
   "cell_type": "markdown",
   "metadata": {},
   "source": [
    "Equivalently, we can also use the `.isnull()` function:"
   ]
  },
  {
   "cell_type": "code",
   "execution_count": null,
   "metadata": {
    "collapsed": true
   },
   "outputs": [],
   "source": [
    "pd.isnull(df)"
   ]
  },
  {
   "cell_type": "markdown",
   "metadata": {},
   "source": [
    "We also also use `.notnull()`, its complement method:"
   ]
  },
  {
   "cell_type": "code",
   "execution_count": null,
   "metadata": {
    "collapsed": true
   },
   "outputs": [],
   "source": [
    "df.notnull()"
   ]
  },
  {
   "cell_type": "code",
   "execution_count": null,
   "metadata": {
    "collapsed": true
   },
   "outputs": [],
   "source": [
    "pd.notnull(df)"
   ]
  },
  {
   "cell_type": "markdown",
   "metadata": {},
   "source": [
    "> ### `.index` and `.columns`: row and column labels"
   ]
  },
  {
   "cell_type": "markdown",
   "metadata": {},
   "source": [
    "(http://pandas.pydata.org/pandas-docs/stable/generated/pandas.Index.html)"
   ]
  },
  {
   "cell_type": "markdown",
   "metadata": {},
   "source": [
    "Use the `.index` property to get the label for rows.  For columns, use the `.columns` property."
   ]
  },
  {
   "cell_type": "code",
   "execution_count": null,
   "metadata": {
    "collapsed": true
   },
   "outputs": [],
   "source": [
    "df.index"
   ]
  },
  {
   "cell_type": "code",
   "execution_count": null,
   "metadata": {
    "collapsed": true
   },
   "outputs": [],
   "source": [
    "type(df.index)"
   ]
  },
  {
   "cell_type": "markdown",
   "metadata": {},
   "source": [
    "In this specific case, rows are just numbered from 0 to 1,000.  Note that, similarly to Python's standard `range` function, this range also excludes the last number."
   ]
  },
  {
   "cell_type": "code",
   "execution_count": null,
   "metadata": {
    "collapsed": true
   },
   "outputs": [],
   "source": [
    "df.columns"
   ]
  },
  {
   "cell_type": "code",
   "execution_count": null,
   "metadata": {
    "collapsed": true
   },
   "outputs": [],
   "source": [
    "type(df.columns)"
   ]
  },
  {
   "cell_type": "markdown",
   "metadata": {},
   "source": [
    "> ## `[ [] ]` and `[]`: subsetting on columns"
   ]
  },
  {
   "cell_type": "markdown",
   "metadata": {},
   "source": [
    "Selecting specific columns is performed by using the `[]` operator.\n",
    "\n",
    "If the values passed to `[]` are non-integers, the `DataFrame` will attempt to match them to those in the `columns` property."
   ]
  },
  {
   "cell_type": "markdown",
   "metadata": {},
   "source": [
    "> Let's subset the `DataFrame` on columns `Size` and `SizeUnit`:"
   ]
  },
  {
   "cell_type": "code",
   "execution_count": null,
   "metadata": {
    "collapsed": true
   },
   "outputs": [],
   "source": [
    "# TODO"
   ]
  },
  {
   "cell_type": "markdown",
   "metadata": {},
   "source": [
    "> How about just on `Address`?"
   ]
  },
  {
   "cell_type": "code",
   "execution_count": null,
   "metadata": {
    "collapsed": true
   },
   "outputs": [],
   "source": [
    "# TODO"
   ]
  },
  {
   "cell_type": "markdown",
   "metadata": {},
   "source": [
    "> ## `Series`"
   ]
  },
  {
   "cell_type": "markdown",
   "metadata": {},
   "source": [
    "(http://pandas.pydata.org/pandas-docs/stable/dsintro.html)"
   ]
  },
  {
   "cell_type": "markdown",
   "metadata": {},
   "source": [
    "Not passing a list will result in a `Series`:"
   ]
  },
  {
   "cell_type": "code",
   "execution_count": 12,
   "metadata": {},
   "outputs": [
    {
     "data": {
      "text/plain": [
       "0        829 Folsom St UNIT 906, San Francisco, CA\n",
       "1       690 Market St UNIT 1705, San Francisco, CA\n",
       "2      401 Grand View Ave APT 3, San Francisco, CA\n",
       "3                250 Concord St, San Francisco, CA\n",
       "4            88 King St APT 317, San Francisco, CA\n",
       "                          ...                     \n",
       "995     310 Townsend St APT 311, San Francisco, CA\n",
       "996               1343 31st Ave, San Francisco, CA\n",
       "997           3916 Alemany Blvd, San Francisco, CA\n",
       "998            430 Fair Oaks St, San Francisco, CA\n",
       "999       720 Stockton St APT 3, San Francisco, CA\n",
       "Name: Address, Length: 1000, dtype: object"
      ]
     },
     "execution_count": 12,
     "metadata": {},
     "output_type": "execute_result"
    }
   ],
   "source": [
    "df['Address']"
   ]
  },
  {
   "cell_type": "markdown",
   "metadata": {},
   "source": [
    "> Let's check the result type:"
   ]
  },
  {
   "cell_type": "code",
   "execution_count": null,
   "metadata": {
    "collapsed": true
   },
   "outputs": [],
   "source": [
    "# TODO"
   ]
  },
  {
   "cell_type": "markdown",
   "metadata": {},
   "source": [
    "Columns can also be retrieved using \"attribute\" access as `DataFrame`s add a property for each column with the names of the properties as the names of the columns.  This won't work however for columns that have spaces or dots in their name."
   ]
  },
  {
   "cell_type": "markdown",
   "metadata": {},
   "source": [
    "> Let's check the value of `df`'s `.Address` property:"
   ]
  },
  {
   "cell_type": "code",
   "execution_count": null,
   "metadata": {
    "collapsed": true
   },
   "outputs": [],
   "source": [
    "# TODO"
   ]
  },
  {
   "cell_type": "markdown",
   "metadata": {},
   "source": [
    "> Use the `.name` property (not `.columns`, that's for a `DataFrame`) to get the name of the variable stored inside it."
   ]
  },
  {
   "cell_type": "markdown",
   "metadata": {},
   "source": [
    "(http://pandas.pydata.org/pandas-docs/stable/generated/pandas.Series.name.html)"
   ]
  },
  {
   "cell_type": "code",
   "execution_count": null,
   "metadata": {
    "collapsed": true
   },
   "outputs": [],
   "source": [
    "# TODO"
   ]
  },
  {
   "cell_type": "markdown",
   "metadata": {},
   "source": [
    "> ## `[]`: slicing on rows"
   ]
  },
  {
   "cell_type": "markdown",
   "metadata": {},
   "source": [
    "> E.g., on the first five rows:"
   ]
  },
  {
   "cell_type": "code",
   "execution_count": null,
   "metadata": {
    "collapsed": true
   },
   "outputs": [],
   "source": [
    "# TODO"
   ]
  },
  {
   "cell_type": "markdown",
   "metadata": {},
   "source": [
    "> ## `.loc[]` and `.iloc[]`: subsetting rows by index label and location"
   ]
  },
  {
   "cell_type": "markdown",
   "metadata": {},
   "source": [
    "- (http://pandas.pydata.org/pandas-docs/stable/generated/pandas.DataFrame.loc.html)\n",
    "- (http://pandas.pydata.org/pandas-docs/stable/generated/pandas.Series.loc.html)"
   ]
  },
  {
   "cell_type": "markdown",
   "metadata": {},
   "source": [
    "- (http://pandas.pydata.org/pandas-docs/stable/generated/pandas.DataFrame.iloc.html)\n",
    "- (http://pandas.pydata.org/pandas-docs/stable/generated/pandas.Series.iloc.html)"
   ]
  },
  {
   "cell_type": "markdown",
   "metadata": {},
   "source": [
    "- (http://pandas.pydata.org/pandas-docs/stable/generated/pandas.DataFrame.set_index.html)\n",
    "- (http://pandas.pydata.org/pandas-docs/stable/generated/pandas.Series.set_index.html)"
   ]
  },
  {
   "cell_type": "markdown",
   "metadata": {},
   "source": [
    "- (http://pandas.pydata.org/pandas-docs/stable/generated/pandas.DataFrame.reset_index.html)\n",
    "- (http://pandas.pydata.org/pandas-docs/stable/generated/pandas.Series.reset_index.html)"
   ]
  },
  {
   "cell_type": "markdown",
   "metadata": {},
   "source": [
    "Until now, the index of the `DataFrame` is a numerical starting from 0 but you can specify which column(s) should be in the index."
   ]
  },
  {
   "cell_type": "markdown",
   "metadata": {},
   "source": [
    "> E.g., `ID`:"
   ]
  },
  {
   "cell_type": "code",
   "execution_count": null,
   "metadata": {
    "collapsed": true
   },
   "outputs": [],
   "source": [
    "df = df.set_index('ID')"
   ]
  },
  {
   "cell_type": "code",
   "execution_count": null,
   "metadata": {
    "collapsed": true
   },
   "outputs": [],
   "source": [
    "df.index"
   ]
  },
  {
   "cell_type": "code",
   "execution_count": null,
   "metadata": {
    "collapsed": true
   },
   "outputs": [],
   "source": [
    "df"
   ]
  },
  {
   "cell_type": "markdown",
   "metadata": {},
   "source": [
    "> E.g., row with index 15063505:"
   ]
  },
  {
   "cell_type": "code",
   "execution_count": null,
   "metadata": {
    "collapsed": true
   },
   "outputs": [],
   "source": [
    "# TODO"
   ]
  },
  {
   "cell_type": "markdown",
   "metadata": {},
   "source": [
    "Its name is its value in the index."
   ]
  },
  {
   "cell_type": "markdown",
   "metadata": {},
   "source": [
    "> E.g., rows with indices 15063505 and 15064044:"
   ]
  },
  {
   "cell_type": "code",
   "execution_count": null,
   "metadata": {
    "collapsed": true
   },
   "outputs": [],
   "source": [
    "# TODO"
   ]
  },
  {
   "cell_type": "markdown",
   "metadata": {},
   "source": [
    "> E.g., rows #1 and #3:"
   ]
  },
  {
   "cell_type": "code",
   "execution_count": null,
   "metadata": {
    "collapsed": true
   },
   "outputs": [],
   "source": [
    "# TODO"
   ]
  },
  {
   "cell_type": "markdown",
   "metadata": {},
   "source": [
    "> ## Subsetting rows by Boolean selection (a.k.a., masking)"
   ]
  },
  {
   "cell_type": "markdown",
   "metadata": {},
   "source": [
    "Rows can also be selected by using Boolean selection, using an array calculated from the result of applying a logical condition on the values in any of the columns.  This allows us to build more complicated selections than those based simply upon index labels or positions."
   ]
  },
  {
   "cell_type": "markdown",
   "metadata": {},
   "source": [
    "> E.g., what homes have been built before 1900?"
   ]
  },
  {
   "cell_type": "code",
   "execution_count": null,
   "metadata": {
    "collapsed": true
   },
   "outputs": [],
   "source": [
    "# TODO"
   ]
  },
  {
   "cell_type": "markdown",
   "metadata": {},
   "source": [
    "> Let's subset on that `Series`:"
   ]
  },
  {
   "cell_type": "code",
   "execution_count": null,
   "metadata": {
    "collapsed": true
   },
   "outputs": [],
   "source": [
    "# TODO"
   ]
  },
  {
   "cell_type": "markdown",
   "metadata": {},
   "source": [
    "Multiple conditions can be put together."
   ]
  },
  {
   "cell_type": "markdown",
   "metadata": {},
   "source": [
    "> E.g., subset for `BuiltInYear` below 1900 and `Size` over 1500:"
   ]
  },
  {
   "cell_type": "code",
   "execution_count": null,
   "metadata": {
    "collapsed": true
   },
   "outputs": [],
   "source": [
    "# TODO"
   ]
  },
  {
   "cell_type": "markdown",
   "metadata": {},
   "source": [
    "It is possible to subset on columns simultaneously."
   ]
  },
  {
   "cell_type": "markdown",
   "metadata": {},
   "source": [
    "> E.g., subset (a `DataFrame`) on `Address` for `BuiltInYear` below 1900 and `Size` over 1500:"
   ]
  },
  {
   "cell_type": "code",
   "execution_count": null,
   "metadata": {
    "collapsed": true
   },
   "outputs": [],
   "source": [
    "# TODO"
   ]
  },
  {
   "cell_type": "markdown",
   "metadata": {},
   "source": [
    "> To get a `Series` instead of a `DataFrame`:"
   ]
  },
  {
   "cell_type": "code",
   "execution_count": null,
   "metadata": {
    "collapsed": true
   },
   "outputs": [],
   "source": [
    "# TODO"
   ]
  },
  {
   "cell_type": "markdown",
   "metadata": {},
   "source": [
    "## Part B | Wrangling the SF Housing dataset (take 2) with `pandas`"
   ]
  },
  {
   "cell_type": "code",
   "execution_count": null,
   "metadata": {
    "collapsed": true
   },
   "outputs": [],
   "source": [
    "properties_df = pd.read_csv(os.path.join('..', 'datasets', 'dataset-03-zillow-properties.csv'), index_col = 'ID')\n",
    "transactions_df = pd.read_csv(os.path.join('..', 'datasets', 'dataset-03-zillow-transactions.csv'), index_col = 'ID')"
   ]
  },
  {
   "cell_type": "markdown",
   "metadata": {},
   "source": [
    "(`pd.read_csv` can load the dataset and set the index column for the `DataFrame` at the same time)"
   ]
  },
  {
   "cell_type": "code",
   "execution_count": null,
   "metadata": {
    "collapsed": true
   },
   "outputs": [],
   "source": [
    "properties_df.head()"
   ]
  },
  {
   "cell_type": "code",
   "execution_count": null,
   "metadata": {
    "collapsed": true
   },
   "outputs": [],
   "source": [
    "transactions_df.head()"
   ]
  },
  {
   "cell_type": "markdown",
   "metadata": {},
   "source": [
    "> ### Merge both `DataFrames`"
   ]
  },
  {
   "cell_type": "markdown",
   "metadata": {},
   "source": [
    "(https://pandas.pydata.org/pandas-docs/stable/generated/pandas.DataFrame.merge.html)"
   ]
  },
  {
   "cell_type": "code",
   "execution_count": null,
   "metadata": {
    "collapsed": true
   },
   "outputs": [],
   "source": [
    "df = properties_df.merge(transactions_df,  left_index = True, right_index = True)"
   ]
  },
  {
   "cell_type": "code",
   "execution_count": null,
   "metadata": {
    "collapsed": true
   },
   "outputs": [],
   "source": [
    "df.columns"
   ]
  },
  {
   "cell_type": "code",
   "execution_count": null,
   "metadata": {
    "collapsed": true
   },
   "outputs": [],
   "source": [
    "df"
   ]
  },
  {
   "cell_type": "markdown",
   "metadata": {},
   "source": [
    "> ### Sort rows by increasing ID"
   ]
  },
  {
   "cell_type": "markdown",
   "metadata": {},
   "source": [
    "(https://pandas.pydata.org/pandas-docs/stable/generated/pandas.DataFrame.sort_index.html)"
   ]
  },
  {
   "cell_type": "code",
   "execution_count": null,
   "metadata": {
    "collapsed": true
   },
   "outputs": [],
   "source": [
    "df.sort_index(inplace = True)"
   ]
  },
  {
   "cell_type": "code",
   "execution_count": null,
   "metadata": {
    "collapsed": true
   },
   "outputs": [],
   "source": [
    "df"
   ]
  },
  {
   "cell_type": "markdown",
   "metadata": {},
   "source": [
    "> ### Remove the `Latitude` and `Longitude` columns"
   ]
  },
  {
   "cell_type": "markdown",
   "metadata": {},
   "source": [
    "(http://pandas.pydata.org/pandas-docs/stable/generated/pandas.DataFrame.drop.html)"
   ]
  },
  {
   "cell_type": "code",
   "execution_count": null,
   "metadata": {
    "collapsed": true
   },
   "outputs": [],
   "source": [
    "df.drop(['Latitude', 'Longitude'], axis = 1, inplace = True)"
   ]
  },
  {
   "cell_type": "code",
   "execution_count": null,
   "metadata": {
    "collapsed": true
   },
   "outputs": [],
   "source": [
    "df"
   ]
  },
  {
   "cell_type": "markdown",
   "metadata": {},
   "source": [
    "> ### `SalePrice`: scale all amount to `$M`"
   ]
  },
  {
   "cell_type": "markdown",
   "metadata": {},
   "source": [
    "- (http://pandas.pydata.org/pandas-docs/stable/generated/pandas.Series.unique.html)\n",
    "- (http://pandas.pydata.org/pandas-docs/stable/generated/pandas.concat.html)"
   ]
  },
  {
   "cell_type": "code",
   "execution_count": null,
   "metadata": {
    "collapsed": true
   },
   "outputs": [],
   "source": [
    "df.SalePriceUnit.unique()"
   ]
  },
  {
   "cell_type": "code",
   "execution_count": null,
   "metadata": {
    "collapsed": true
   },
   "outputs": [],
   "source": [
    "df_1 = df[df.SalePriceUnit == '$']\n",
    "df_1 = df_1.drop('SalePriceUnit', axis = 1)\n",
    "\n",
    "# Scaling sale price to $M\n",
    "df_1.SalePrice /= 10 ** 6\n",
    "\n",
    "df_6 = df[df.SalePriceUnit == '$M']\n",
    "df_6 = df_6.drop('SalePriceUnit', axis = 1)"
   ]
  },
  {
   "cell_type": "code",
   "execution_count": null,
   "metadata": {
    "collapsed": true
   },
   "outputs": [],
   "source": [
    "# Concatenate of two DataFrames by rows\n",
    "df = pd.concat([df_1, df_6])"
   ]
  },
  {
   "cell_type": "code",
   "execution_count": null,
   "metadata": {
    "collapsed": true
   },
   "outputs": [],
   "source": [
    "# Resort the new DataFrame\n",
    "df.sort_index(inplace = True)"
   ]
  },
  {
   "cell_type": "markdown",
   "metadata": {},
   "source": [
    "> ### `IsAStudio`: convert from a Boolean to a binary variable (i.e., 0 or 1)"
   ]
  },
  {
   "cell_type": "code",
   "execution_count": null,
   "metadata": {
    "collapsed": true
   },
   "outputs": [],
   "source": [
    "# TODO"
   ]
  },
  {
   "cell_type": "code",
   "execution_count": null,
   "metadata": {
    "collapsed": true
   },
   "outputs": [],
   "source": [
    "df.IsAStudio"
   ]
  },
  {
   "cell_type": "markdown",
   "metadata": {},
   "source": [
    "> ### `Size`"
   ]
  },
  {
   "cell_type": "code",
   "execution_count": null,
   "metadata": {
    "collapsed": true
   },
   "outputs": [],
   "source": [
    "df.SizeUnit.unique()"
   ]
  },
  {
   "cell_type": "markdown",
   "metadata": {},
   "source": [
    "Size is either in square feet or missing.  Almost no work needed except to remove size unit."
   ]
  },
  {
   "cell_type": "code",
   "execution_count": null,
   "metadata": {
    "collapsed": true
   },
   "outputs": [],
   "source": [
    "df.drop('SizeUnit', axis = 1, inplace = True)"
   ]
  },
  {
   "cell_type": "markdown",
   "metadata": {},
   "source": [
    "> ### `LotSize`: scale all values to square feet"
   ]
  },
  {
   "cell_type": "code",
   "execution_count": null,
   "metadata": {
    "collapsed": true
   },
   "outputs": [],
   "source": [
    "df.LotSizeUnit.unique()"
   ]
  },
  {
   "cell_type": "markdown",
   "metadata": {},
   "source": [
    "Lot sizes are either in square feet or in acres.  Let's convert them all to square feet."
   ]
  },
  {
   "cell_type": "markdown",
   "metadata": {},
   "source": [
    "> Group #1: the `na` values:"
   ]
  },
  {
   "cell_type": "code",
   "execution_count": null,
   "metadata": {
    "collapsed": true
   },
   "outputs": [],
   "source": [
    "df_na = df[df.LotSizeUnit.isnull()]\n",
    "df_na = df_na.drop('LotSizeUnit', axis = 1)\n",
    "\n",
    "df_na.shape[0]"
   ]
  },
  {
   "cell_type": "markdown",
   "metadata": {},
   "source": [
    "> Group #2: the `sqft` values:"
   ]
  },
  {
   "cell_type": "code",
   "execution_count": null,
   "metadata": {
    "collapsed": true
   },
   "outputs": [],
   "source": [
    "# TODO (use df_sqft)"
   ]
  },
  {
   "cell_type": "markdown",
   "metadata": {},
   "source": [
    "> Group #3: the `ac` values:"
   ]
  },
  {
   "cell_type": "code",
   "execution_count": null,
   "metadata": {
    "collapsed": true
   },
   "outputs": [],
   "source": [
    "# TODO (use df_ac)"
   ]
  },
  {
   "cell_type": "markdown",
   "metadata": {},
   "source": [
    "> Let's scale these `acre` values into `sqft`:"
   ]
  },
  {
   "cell_type": "code",
   "execution_count": null,
   "metadata": {
    "collapsed": true
   },
   "outputs": [],
   "source": [
    "# (1 acre = 43,560 sqft)\n",
    "\n",
    "# TODO"
   ]
  },
  {
   "cell_type": "markdown",
   "metadata": {},
   "source": [
    "Let's now put everything back together..."
   ]
  },
  {
   "cell_type": "code",
   "execution_count": null,
   "metadata": {
    "collapsed": true
   },
   "outputs": [],
   "source": [
    "df = pd.concat([df_na, df_sqft, df_ac]).sort_index()"
   ]
  },
  {
   "cell_type": "code",
   "execution_count": null,
   "metadata": {
    "collapsed": true
   },
   "outputs": [],
   "source": [
    "df"
   ]
  },
  {
   "cell_type": "markdown",
   "metadata": {},
   "source": [
    "> ## `.to_csv`: save the `DataFrame` into a `.csv` file"
   ]
  },
  {
   "cell_type": "markdown",
   "metadata": {},
   "source": [
    "At the end of each phase (i.e., wrangling) of your data science project, it is a good idea to save your dataset into disk.  Then for the next step, create a new Jupyther notebook and load your updated dataset"
   ]
  },
  {
   "cell_type": "code",
   "execution_count": null,
   "metadata": {
    "collapsed": true
   },
   "outputs": [],
   "source": [
    "df.to_csv(os.path.join('..', 'datasets', 'dataset-03-zillow.csv'), index_label = 'ID')"
   ]
  },
  {
   "cell_type": "markdown",
   "metadata": {},
   "source": [
    "## Part C | Advanced topics"
   ]
  },
  {
   "cell_type": "markdown",
   "metadata": {},
   "source": [
    "### `.groupby()`"
   ]
  },
  {
   "cell_type": "markdown",
   "metadata": {},
   "source": [
    "(http://pandas.pydata.org/pandas-docs/stable/groupby.html)"
   ]
  },
  {
   "cell_type": "markdown",
   "metadata": {},
   "source": [
    "> What is the mean price of houses by number of bathrooms?"
   ]
  },
  {
   "cell_type": "code",
   "execution_count": null,
   "metadata": {
    "collapsed": true
   },
   "outputs": [],
   "source": [
    "df = pd.read_csv(os.path.join('..', 'datasets', 'dataset-03-zillow.csv'))"
   ]
  },
  {
   "cell_type": "code",
   "execution_count": null,
   "metadata": {
    "collapsed": true
   },
   "outputs": [],
   "source": [
    "df[ ['Baths', 'SalePrice'] ].groupby('Baths').mean()"
   ]
  },
  {
   "cell_type": "markdown",
   "metadata": {},
   "source": [
    "### `.map()`"
   ]
  },
  {
   "cell_type": "markdown",
   "metadata": {},
   "source": [
    "(http://pandas.pydata.org/pandas-docs/stable/generated/pandas.Series.map.html)"
   ]
  },
  {
   "cell_type": "markdown",
   "metadata": {},
   "source": [
    "When converting `SalePrice`, `Size`, and `LotSize` into `$M` and sqft, we could also have done the following:"
   ]
  },
  {
   "cell_type": "code",
   "execution_count": null,
   "metadata": {
    "collapsed": true
   },
   "outputs": [],
   "source": [
    "df = pd.read_csv(os.path.join('..', 'datasets', 'dataset-03-zillow-transactions.csv'))"
   ]
  },
  {
   "cell_type": "code",
   "execution_count": null,
   "metadata": {
    "collapsed": true
   },
   "outputs": [],
   "source": [
    "df.SalePriceUnit.unique()"
   ]
  },
  {
   "cell_type": "code",
   "execution_count": null,
   "metadata": {
    "collapsed": true
   },
   "outputs": [],
   "source": [
    "df.SalePriceUnit.map({'$': 1. / (10 ** 6), '$M': 1.})"
   ]
  },
  {
   "cell_type": "code",
   "execution_count": null,
   "metadata": {
    "collapsed": true
   },
   "outputs": [],
   "source": [
    "df.SalePrice *= df.SalePriceUnit.map({'$': 1. / (10 ** 6), '$M': 1.})"
   ]
  },
  {
   "cell_type": "code",
   "execution_count": null,
   "metadata": {
    "collapsed": true
   },
   "outputs": [],
   "source": [
    "df.SalePrice"
   ]
  },
  {
   "cell_type": "code",
   "execution_count": null,
   "metadata": {
    "collapsed": true
   },
   "outputs": [],
   "source": [
    "df.drop('SalePriceUnit', axis = 1, inplace = True)"
   ]
  },
  {
   "cell_type": "code",
   "execution_count": null,
   "metadata": {
    "collapsed": true
   },
   "outputs": [],
   "source": [
    "df"
   ]
  },
  {
   "cell_type": "markdown",
   "metadata": {},
   "source": [
    "> ### Activity:  Using `.map()`, convert `Size` and `LotSize` to sqft."
   ]
  },
  {
   "cell_type": "code",
   "execution_count": null,
   "metadata": {
    "collapsed": true
   },
   "outputs": [],
   "source": [
    "df = pd.read_csv(os.path.join('..', 'datasets', 'dataset-03-zillow-properties.csv'))"
   ]
  },
  {
   "cell_type": "code",
   "execution_count": null,
   "metadata": {
    "collapsed": true
   },
   "outputs": [],
   "source": [
    "# TODO"
   ]
  },
  {
   "cell_type": "markdown",
   "metadata": {},
   "source": [
    "### `.to_datetime()`"
   ]
  },
  {
   "cell_type": "markdown",
   "metadata": {},
   "source": [
    "(http://pandas.pydata.org/pandas-docs/stable/generated/pandas.to_datetime.html)"
   ]
  },
  {
   "cell_type": "code",
   "execution_count": null,
   "metadata": {
    "collapsed": true
   },
   "outputs": [],
   "source": [
    "df = pd.read_csv(os.path.join('..', 'datasets', 'dataset-03-zillow.csv'))"
   ]
  },
  {
   "cell_type": "code",
   "execution_count": null,
   "metadata": {
    "collapsed": true
   },
   "outputs": [],
   "source": [
    "df.DateOfSale"
   ]
  },
  {
   "cell_type": "markdown",
   "metadata": {},
   "source": [
    "So far, the dates stored in the `DataFrame` are just strings.  We cannot easily extract the day, month, year.  Thanksfully, `pandas` provides some facilities to do so."
   ]
  },
  {
   "cell_type": "code",
   "execution_count": null,
   "metadata": {
    "collapsed": true
   },
   "outputs": [],
   "source": [
    "pd.to_datetime(df.DateOfSale)"
   ]
  },
  {
   "cell_type": "code",
   "execution_count": null,
   "metadata": {
    "collapsed": true
   },
   "outputs": [],
   "source": [
    "df.DateOfSale = pd.to_datetime(df.DateOfSale)"
   ]
  },
  {
   "cell_type": "markdown",
   "metadata": {},
   "source": [
    "### `.apply()`"
   ]
  },
  {
   "cell_type": "markdown",
   "metadata": {},
   "source": [
    "(http://pandas.pydata.org/pandas-docs/stable/generated/pandas.Series.apply.html)"
   ]
  },
  {
   "cell_type": "code",
   "execution_count": null,
   "metadata": {
    "collapsed": true
   },
   "outputs": [],
   "source": [
    "df.DateOfSale.apply(lambda date_of_sale: date_of_sale.year)"
   ]
  },
  {
   "cell_type": "code",
   "execution_count": null,
   "metadata": {
    "collapsed": true
   },
   "outputs": [],
   "source": [
    "df['YearOfSale'] = df.DateOfSale.apply(lambda date_of_sale: date_of_sale.year)\n",
    "df['MonthOfSale'] = df.DateOfSale.apply(lambda date_of_sale: date_of_sale.month)\n",
    "df['DayOfSale'] = df.DateOfSale.apply(lambda date_of_sale: date_of_sale.day)\n",
    "df['WeekDayOfSale'] = df.DateOfSale.apply(lambda date_of_sale: date_of_sale.weekday_name)\n",
    "\n",
    "df.drop('DateOfSale', axis = 1, inplace = True)"
   ]
  },
  {
   "cell_type": "markdown",
   "metadata": {},
   "source": [
    "Now, we have the day, day of the week, month, and year of the sale as features in our dataset."
   ]
  },
  {
   "cell_type": "code",
   "execution_count": null,
   "metadata": {
    "collapsed": true
   },
   "outputs": [],
   "source": [
    "df"
   ]
  }
 ],
 "metadata": {
  "kernelspec": {
   "display_name": "Python 2",
   "language": "python",
   "name": "python2"
  },
  "language_info": {
   "codemirror_mode": {
    "name": "ipython",
    "version": 2
   },
   "file_extension": ".py",
   "mimetype": "text/x-python",
   "name": "python",
   "nbconvert_exporter": "python",
   "pygments_lexer": "ipython2",
   "version": "2.7.13"
  }
 },
 "nbformat": 4,
 "nbformat_minor": 1
}
